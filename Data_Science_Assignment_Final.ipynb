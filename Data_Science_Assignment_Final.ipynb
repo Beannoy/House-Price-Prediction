{
  "nbformat": 4,
  "nbformat_minor": 0,
  "metadata": {
    "colab": {
      "name": "Data_Science_Assignment_Final.ipynb",
      "provenance": [],
      "collapsed_sections": []
    },
    "kernelspec": {
      "name": "python3",
      "display_name": "Python 3"
    },
    "language_info": {
      "name": "python"
    }
  },
  "cells": [
    {
      "cell_type": "code",
      "metadata": {
        "id": "D7KUNEHcF9Rd"
      },
      "source": [
        "import os\n",
        "import warnings\n",
        "%matplotlib inline\n",
        "import matplotlib.pyplot as plt\n",
        "import seaborn as sns\n",
        "import numpy as np \n",
        "import pandas as pd \n",
        "import pandas_profiling as pp\n",
        "from sklearn.model_selection import train_test_split\n",
        "from sklearn.preprocessing import StandardScaler, LabelEncoder"
      ],
      "execution_count": 1,
      "outputs": []
    },
    {
      "cell_type": "code",
      "metadata": {
        "id": "TmHr9rseGEbj"
      },
      "source": [
        "train = pd.read_csv('/content/train.csv')\n",
        "test  = pd.read_csv('/content/test.csv')\n",
        "sample= pd.read_csv('/content/sample_submission.csv')"
      ],
      "execution_count": 2,
      "outputs": []
    },
    {
      "cell_type": "code",
      "metadata": {
        "id": "GCHnvtsRGiIC"
      },
      "source": [
        "dfs = [train,test]\n",
        "df = pd.concat(dfs).reset_index(drop=True);"
      ],
      "execution_count": 7,
      "outputs": []
    },
    {
      "cell_type": "code",
      "metadata": {
        "id": "10P5RVRggoML"
      },
      "source": [
        "fig, ax = plt.subplots()\n",
        "ax.scatter(x = train['GrLivArea'], y = train['SalePrice'])\n",
        "plt.ylabel('SalePrice', fontsize=13)\n",
        "plt.xlabel('GrLivArea', fontsize=13)\n",
        "plt.show()"
      ],
      "execution_count": null,
      "outputs": []
    },
    {
      "cell_type": "code",
      "metadata": {
        "id": "x-4qDicWhIXB"
      },
      "source": [
        "train = train.drop(train[(train['GrLivArea']>4000) & (train['SalePrice']<300000)].index)\n",
        "\n",
        "fig, ax = plt.subplots()\n",
        "ax.scatter(train['GrLivArea'], train['SalePrice'])\n",
        "plt.ylabel('SalePrice', fontsize=13)\n",
        "plt.xlabel('GrLivArea', fontsize=13)\n",
        "plt.show()"
      ],
      "execution_count": null,
      "outputs": []
    },
    {
      "cell_type": "code",
      "metadata": {
        "id": "gQx3JIsNhUrE"
      },
      "source": [
        "corrmat = train.corr()\n",
        "plt.subplots(figsize=(12,9))\n",
        "sns.heatmap(corrmat, vmax=0.9, square=True)"
      ],
      "execution_count": null,
      "outputs": []
    },
    {
      "cell_type": "code",
      "metadata": {
        "id": "25y5G54QGHZQ"
      },
      "source": [
        "y = train[['Id','SalePrice']]\n",
        "train = train.drop('SalePrice',axis=1)"
      ],
      "execution_count": 3,
      "outputs": []
    },
    {
      "cell_type": "code",
      "metadata": {
        "id": "mg3Vau5JGlvY"
      },
      "source": [
        "df.drop(['PoolQC','MiscFeature','Fence','FireplaceQu','Utilities'],axis=1,inplace=True)"
      ],
      "execution_count": 5,
      "outputs": []
    },
    {
      "cell_type": "code",
      "metadata": {
        "id": "0T-vm_kFGrVp"
      },
      "source": [
        "df['LotFrontage'].fillna(value=df['LotFrontage'].median(),inplace=True)\n",
        "df['MasVnrType'].fillna(value='None',inplace=True)\n",
        "df['MasVnrArea'].fillna(0,inplace=True)\n",
        "df['BsmtCond'].fillna(value='TA',inplace=True)\n",
        "df['BsmtExposure'].fillna(value='No',inplace=True)\n",
        "df['Electrical'].fillna(value='SBrkr',inplace=True)\n",
        "df['BsmtFinType2'].fillna(value='Unf',inplace=True)\n",
        "df['GarageType'].fillna(value='Attchd',inplace=True)\n",
        "df['GarageYrBlt'].fillna(value=df['GarageYrBlt'].median(),inplace=True)\n",
        "df['GarageFinish'].fillna(value='Unf',inplace=True)\n",
        "df['GarageQual'].fillna(value='TA',inplace=True)\n",
        "df['GarageCond'].fillna(value='TA',inplace=True)\n",
        "df['BsmtFinType1'].fillna(value='NO',inplace=True)\n",
        "df['BsmtQual'].fillna(value='No',inplace=True)\n",
        "df['BsmtFullBath'].fillna(value=df['BsmtFullBath'].median(),inplace=True)\n",
        "df['BsmtFinSF1'].fillna(value=df['BsmtFinSF1'].median(),inplace=True)\n",
        "df['BsmtFinSF2'].fillna(value=0,inplace=True)\n",
        "df['BsmtUnfSF'].fillna(value=0,inplace=True)\n",
        "df['TotalBsmtSF'].fillna(value=df['TotalBsmtSF'].median(),inplace=True)\n",
        "df['BsmtHalfBath'].fillna(value=0,inplace=True)\n",
        "df['GarageCars'].fillna(value=df['GarageCars'].median(),inplace=True)\n",
        "df['GarageArea'].fillna(value=df['GarageArea'].median(),inplace=True)"
      ],
      "execution_count": 9,
      "outputs": []
    },
    {
      "cell_type": "code",
      "metadata": {
        "id": "K1Me0tDYGuVf"
      },
      "source": [
        "labelencoder=LabelEncoder()\n",
        "\n",
        "df['MSZoning']      = labelencoder.fit_transform(df['MSZoning'].astype(str))\n",
        "df['Exterior1st']   = labelencoder.fit_transform(df['Exterior1st'].astype(str))\n",
        "df['Exterior2nd']   = labelencoder.fit_transform(df['Exterior2nd'].astype(str))\n",
        "df['KitchenQual']   = labelencoder.fit_transform(df['KitchenQual'].astype(str))\n",
        "df['Functional']    = labelencoder.fit_transform(df['Functional'].astype(str))\n",
        "df['SaleType']      = labelencoder.fit_transform(df['SaleType'].astype(str))\n",
        "df['Street']        = labelencoder.fit_transform(df['Street'])   \n",
        "df['LotShape']      = labelencoder.fit_transform(df['LotShape'])   \n",
        "df['LandContour']   = labelencoder.fit_transform(df['LandContour'])   \n",
        "df['LotConfig']     = labelencoder.fit_transform(df['LotConfig'])   \n",
        "df['LandSlope']     = labelencoder.fit_transform(df['LandSlope'])   \n",
        "df['Neighborhood']  = labelencoder.fit_transform(df['Neighborhood'])   \n",
        "df['Condition1']    = labelencoder.fit_transform(df['Condition1'])   \n",
        "df['Condition2']    = labelencoder.fit_transform(df['Condition2'])   \n",
        "df['BldgType']      = labelencoder.fit_transform(df['BldgType'])   \n",
        "df['HouseStyle']    = labelencoder.fit_transform(df['HouseStyle'])   \n",
        "df['RoofStyle']     = labelencoder.fit_transform(df['RoofStyle'])   \n",
        "df['RoofMatl']      = labelencoder.fit_transform(df['RoofMatl'])    \n",
        "df['MasVnrType']    = labelencoder.fit_transform(df['MasVnrType'])   \n",
        "df['ExterQual']     = labelencoder.fit_transform(df['ExterQual'])  \n",
        "df['ExterCond']     = labelencoder.fit_transform(df['ExterCond'])   \n",
        "df['Foundation']    = labelencoder.fit_transform(df['Foundation'])   \n",
        "df['BsmtQual']      = labelencoder.fit_transform(df['BsmtQual'])   \n",
        "df['BsmtCond']      = labelencoder.fit_transform(df['BsmtCond'])   \n",
        "df['BsmtExposure']  = labelencoder.fit_transform(df['BsmtExposure'])   \n",
        "df['BsmtFinType1']  = labelencoder.fit_transform(df['BsmtFinType1'])   \n",
        "df['BsmtFinType2']  = labelencoder.fit_transform(df['BsmtFinType2'])   \n",
        "df['Heating']       = labelencoder.fit_transform(df['Heating'])   \n",
        "df['HeatingQC']     = labelencoder.fit_transform(df['HeatingQC'])   \n",
        "df['CentralAir']    = labelencoder.fit_transform(df['CentralAir'])   \n",
        "df['Electrical']    = labelencoder.fit_transform(df['Electrical'])    \n",
        "df['GarageType']    = labelencoder.fit_transform(df['GarageType'])  \n",
        "df['GarageFinish']  = labelencoder.fit_transform(df['GarageFinish'])   \n",
        "df['GarageQual']    = labelencoder.fit_transform(df['GarageQual'])  \n",
        "df['GarageCond']    = labelencoder.fit_transform(df['GarageCond'])   \n",
        "df['PavedDrive']    = labelencoder.fit_transform(df['PavedDrive'])  \n",
        "df['SaleCondition'] = labelencoder.fit_transform(df['SaleCondition'])  "
      ],
      "execution_count": 10,
      "outputs": []
    },
    {
      "cell_type": "code",
      "metadata": {
        "id": "WHuP8uEEGy0s"
      },
      "source": [
        "Scaler = StandardScaler()\n",
        "scaled = pd.DataFrame(Scaler.fit_transform(df))\n",
        "\n",
        "train_scaled = pd.DataFrame(scaled[:1460])\n",
        "test_scaled = pd.DataFrame(scaled[1460:2920])"
      ],
      "execution_count": 11,
      "outputs": []
    },
    {
      "cell_type": "code",
      "metadata": {
        "id": "4HRwbPFkG1_D"
      },
      "source": [
        "X = train_scaled\n",
        "X_train, X_test, y_train, y_test = train_test_split(X, y['SalePrice'], test_size=0.1, random_state=10)"
      ],
      "execution_count": 18,
      "outputs": []
    },
    {
      "cell_type": "code",
      "metadata": {
        "id": "bGu7J9dRG41p"
      },
      "source": [
        "from xgboost import XGBRegressor\n",
        "XGB = XGBRegressor(max_depth=2,learning_rate=0.1,n_estimators=1000,reg_alpha=0.001,reg_lambda=0.000001,n_jobs=-1,min_child_weight=3)\n",
        "XGB.fit(X_train,y_train)"
      ],
      "execution_count": null,
      "outputs": []
    },
    {
      "cell_type": "code",
      "metadata": {
        "id": "rNKlWCqMG77B"
      },
      "source": [
        "from lightgbm import LGBMRegressor\n",
        "LGBM = LGBMRegressor(n_estimators = 1000)\n",
        "LGBM.fit(X_train,y_train)"
      ],
      "execution_count": null,
      "outputs": []
    },
    {
      "cell_type": "code",
      "metadata": {
        "id": "dx9rYNsBG-ia"
      },
      "source": [
        "print (\"XGB Training score:\",XGB.score(X_train,y_train),\"Test Score:\",XGB.score(X_test,y_test))\n",
        "print (\"LGBM Training score:\",LGBM.score(X_train,y_train),\"Test Score:\",LGBM.score(X_test,y_test))"
      ],
      "execution_count": null,
      "outputs": []
    },
    {
      "cell_type": "code",
      "metadata": {
        "id": "us7UmZkjHDMs"
      },
      "source": [
        "y_pred_xgb  = pd.DataFrame( XGB.predict(test_scaled))\n",
        "y_pred_lgbm = pd.DataFrame(LGBM.predict(test_scaled))\n",
        "\n",
        "y_pred=pd.DataFrame()\n",
        "y_pred['SalePrice'] = 0.5 * y_pred_xgb[0] + 0.5 * y_pred_lgbm[0]\n",
        "y_pred['Id'] = test['Id']"
      ],
      "execution_count": 22,
      "outputs": []
    },
    {
      "cell_type": "code",
      "metadata": {
        "id": "1I6dmtQIHGTD"
      },
      "source": [
        "y_pred.to_csv('submission_d2.csv',index=False)"
      ],
      "execution_count": 24,
      "outputs": []
    }
  ]
}